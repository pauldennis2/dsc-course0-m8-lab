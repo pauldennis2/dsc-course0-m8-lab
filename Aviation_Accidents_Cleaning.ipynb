{
 "cells": [
  {
   "cell_type": "markdown",
   "id": "d7485d62",
   "metadata": {},
   "source": [
    "# Aviation Accidents Analysis\n",
    "\n",
    "You are part of a consulting firm that is tasked to do an analysis of commercial and passenger jet airline safety. The client (an airline/airplane insurer) is interested in knowing what types of aircraft (makes/models) exhibit low rates of total destruction and low likelihood of fatal or serious passenger injuries in the event of an accident. They are also interested in any general variables/conditions that might be at play. Your analysis will be based off of aviation accident data accumulated from the years 1948-2023. \n",
    "\n",
    "Our client is only interested in airplane makes/models that are professional builds and could potentially still be active. Assume a max lifetime of 40 years for a make/model retirement and make sure to filter your data accordingly (i.e. from 1983 onwards). They would also like separate recommendations for small aircraft vs. larger passenger models. **In addition, make sure that claims that you make are statistically robust and that you have enough samples when making comparisons between groups.**\n",
    "\n",
    "\n",
    "In this summative assessment you will demonstrate your ability to:\n",
    "- **Use Pandas to load, inspect, and clean the dataset appropriately.**\n",
    "- **Transform relevant columns to create measures that address the problem at hand.**\n",
    "- conduct EDA: visualization and statistical measures to systematically understand the structure of the data\n",
    "- recommend a set of airplanes and makes conforming to the client's request and identify at least *two* factors contributing to airplane safety. You must provide supporting evidence (visuals, summary statistics, tables) for each claim you make."
   ]
  },
  {
   "cell_type": "markdown",
   "id": "73e582c5",
   "metadata": {},
   "source": [
    "### Make relevant library imports"
   ]
  },
  {
   "cell_type": "code",
   "execution_count": 130,
   "id": "a72188a8",
   "metadata": {},
   "outputs": [],
   "source": [
    "import pandas as pd\n",
    "import numpy as np\n",
    "import matplotlib.pyplot as plt\n",
    "import seaborn as sns"
   ]
  },
  {
   "cell_type": "markdown",
   "id": "5b1fc321",
   "metadata": {},
   "source": [
    "## Data Loading and Inspection"
   ]
  },
  {
   "cell_type": "markdown",
   "id": "57becc28",
   "metadata": {},
   "source": [
    "### Load in data from the relevant directory and inspect the dataframe.\n",
    "- inspect NaNs, datatypes, and summary statistics"
   ]
  },
  {
   "cell_type": "code",
   "execution_count": 131,
   "id": "85235fa7",
   "metadata": {},
   "outputs": [],
   "source": [
    "df = pd.read_csv(\"./data/AviationData.csv\", encoding=\"latin1\", low_memory=False)"
   ]
  },
  {
   "cell_type": "markdown",
   "id": "2e9b8cc7",
   "metadata": {},
   "source": [
    "## Data Cleaning"
   ]
  },
  {
   "cell_type": "markdown",
   "id": "c23efd78",
   "metadata": {},
   "source": [
    "### Filtering aircrafts and events"
   ]
  },
  {
   "cell_type": "markdown",
   "id": "9c399343",
   "metadata": {},
   "source": [
    "We want to filter the dataset to include aircraft that the client is interested in an analysis of:\n",
    "- inspect relevant columns\n",
    "- figure out any reasonable imputations\n",
    "- filter the dataset"
   ]
  },
  {
   "cell_type": "code",
   "execution_count": 132,
   "id": "e14a6a68",
   "metadata": {},
   "outputs": [],
   "source": [
    "# Cleaning tasks around engine info, cleaning make and model, collision detection, and a few small items\n",
    "\n",
    "def normalize_engine_type(df):\n",
    "    \"\"\"\n",
    "    Normalizes NaN, UNK, Unknown, and Unk values in the 'Engine.Type' column.\n",
    "    NONE and Hybrid rocket will be dropped in filtering stage\n",
    "    Potential future steps:\n",
    "    - Group turbine engine types (Turbo Prop, Turbo Shaft, Turbo Fan, Turbo Jet, Geared Turbofan).\n",
    "    - Group less common engine types (Electric, LR, NONE, Hybrid Rocket).\n",
    "    \"\"\"\n",
    "    def normalize_engine(engine):\n",
    "        if pd.isna(engine) or engine in [\"UNK\", \"Unknown\", \"Unk\"]:\n",
    "            return \"Unknown\"\n",
    "        else:\n",
    "            return engine\n",
    "\n",
    "    df[\"Engine.Type\"] = df[\"Engine.Type\"].apply(normalize_engine)\n",
    "    return df\n",
    "\n",
    "def create_engine_configuration(df):\n",
    "    \"\"\"Creates a new 'Engine.Configuration' column with grouped engine counts.\"\"\"\n",
    "    def group_engines(count):\n",
    "        if count == 1:\n",
    "            return \"Single\"\n",
    "        elif count == 2:\n",
    "            return \"Twin\"\n",
    "        elif count >= 3:\n",
    "            return \"Multi\"\n",
    "        elif count == 0:\n",
    "            return \"None\"\n",
    "        else:\n",
    "            return \"Unknown\"  # Handles NaN and other unexpected values\n",
    "\n",
    "    df[\"Engine.Configuration\"] = df[\"Number.of.Engines\"].apply(group_engines)\n",
    "    return df\n",
    "    \n",
    "def _create_aircraft_involved_column(df):\n",
    "    \"\"\"\n",
    "    Creates an 'Aircraft Involved' column indicating the number of aircraft involved in each incident.\n",
    "    Examining the data we found a large number of midair collisions that share Event IDs.\n",
    "    \"\"\"\n",
    "    event_id_counts = df['Event.Id'].value_counts().to_dict()\n",
    "    df['Aircraft Involved'] = df['Event.Id'].map(event_id_counts)\n",
    "    return df\n",
    "\n",
    "def _simplify_aircraft_category(category):\n",
    "    if category == \"Airplane\":\n",
    "        return \"Airplane\"\n",
    "    elif category in [\"Helicopter\", \"Gyrocraft\", \"Powered-Lift\"]:\n",
    "        return \"Rotorcraft\"\n",
    "    elif pd.isna(category) or category in [\"Unknown\", \"UNK\"]:\n",
    "        return \"Other/Unknown\"\n",
    "    else:\n",
    "        return np.nan # Mark as NaN for to drop the oddbal types like Rocket\n",
    "    \n",
    "def misc_cleaning(df):\n",
    "    \"\"\"Performs miscellaneous cleaning tasks on the DataFrame.\"\"\"\n",
    "\n",
    "    # Convert Event.Date to datetime\n",
    "    df[\"Event.Date\"] = pd.to_datetime(df[\"Event.Date\"], errors=\"coerce\")\n",
    "\n",
    "    # Fill NaN values in Amateur.Built\n",
    "    # Change NaN to \"No\" because examining the data shows the models for these are Boeing, Cessna, etc\n",
    "    df.loc[:, \"Amateur.Built\"] = df[\"Amateur.Built\"].fillna(\"No\")\n",
    "\n",
    "    # Fill NaN values in Aircraft.damage\n",
    "    df.loc[:, \"Aircraft.damage\"] = df[\"Aircraft.damage\"].fillna(\"Unknown\")\n",
    "\n",
    "    # Clean make and model columns.\n",
    "    df.loc[:, \"Make\"] = df[\"Make\"].str.strip().str.title()\n",
    "    merge_names = {\"Air Tractor Inc\": \"Air Tractor\", \"Airbus Industrie\": \"Airbus\", \"Aviat Aircraft Inc\": \"Aviat\", \n",
    "               \"Cirrus Design Corp\": \"Cirrus\", \"Cirrus Design Corp.\": \"Cirrus\",\n",
    "               \"Dehavilland\": \"De Havilland\", \"Ercoupe (Eng & Research Corp.)\": \"Ercoupe\",\n",
    "                 \"Grumman Acft Eng Cor-Schweizer\": \"Grumman\", \"Grumman American\": \"Grumman\",\n",
    "                \"Grumman-Schweizer\": \"Grumman\", \"Robinson Helicopter\": \"Robinson\",\n",
    "                  \"Robinson Helicopter Company\": \"Robinson\", \"Rockwell International\": \"Rockwell\"}\n",
    "\n",
    "    df['Make'] = df['Make'].replace(merge_names)    \n",
    "    df.loc[:, \"Model\"] = df[\"Model\"].str.strip()\n",
    "    # Make a combo column for convenience\n",
    "    df['MakeModel'] = df['Make'] + ' ' + df['Model']\n",
    "\n",
    "    df = _create_aircraft_involved_column(df)\n",
    "\n",
    "    df[\"Aircraft.Category\"] = df[\"Aircraft.Category\"].apply(_simplify_aircraft_category)\n",
    "\n",
    "    return df"
   ]
  },
  {
   "cell_type": "code",
   "execution_count": 133,
   "id": "73aba59a",
   "metadata": {},
   "outputs": [],
   "source": [
    "# Passenger count and injury/fatality processing\n",
    "\n",
    "def _clean_injury_counts(df):\n",
    "    \"\"\"\n",
    "    Sets null or negative injury counts to 0 and converts to integers.\n",
    "    \"\"\"\n",
    "    injury_columns = [\n",
    "        \"Total.Fatal.Injuries\",\n",
    "        \"Total.Serious.Injuries\",\n",
    "        \"Total.Minor.Injuries\",\n",
    "        \"Total.Uninjured\"\n",
    "    ]\n",
    "\n",
    "    for col in injury_columns:\n",
    "        df[col] = df[col].fillna(0).astype(int)\n",
    "        df[col] = df[col].apply(lambda x: 0 if x < 0 else x)\n",
    "    return df\n",
    "\n",
    "def _create_injury_and_passenger_columns(df):\n",
    "    \"\"\"\n",
    "    Creates \"Bad.Injuries\" (fatal + serious) and \"Total.Passengers\" columns.\n",
    "    \"\"\"\n",
    "    df[\"Bad.Injuries\"] = df[\"Total.Fatal.Injuries\"] + df[\"Total.Serious.Injuries\"]\n",
    "    df[\"Total.Passengers\"] = (\n",
    "        df[\"Total.Fatal.Injuries\"]\n",
    "        + df[\"Total.Serious.Injuries\"]\n",
    "        + df[\"Total.Minor.Injuries\"]\n",
    "        + df[\"Total.Uninjured\"]\n",
    "    )\n",
    "    return df\n",
    "\n",
    "def _create_final_fatalities(df):\n",
    "    \"\"\"\n",
    "    Creates a 'Final.Fatalities' column, taking the maximum of parsed and total fatal injuries.\n",
    "    \"\"\"\n",
    "    def extract_fatalities(severity):\n",
    "        if isinstance(severity, str) and severity.startswith(\"Fatal(\") :\n",
    "            try:\n",
    "                return int(severity[6:-1])\n",
    "            # There was some number here but we couldn't parse, so we'll default to 1\n",
    "            # This will later be compared against the Total.Fatal.Injuries column\n",
    "            except ValueError:\n",
    "                return 1\n",
    "        elif severity == \"Fatal\":\n",
    "            return 1\n",
    "        else:\n",
    "            return 0\n",
    "\n",
    "    df[\"Parsed.Fatalities\"] = df[\"Injury.Severity\"].apply(extract_fatalities)\n",
    "    df[\"Final.Fatalities\"] = df[[\"Parsed.Fatalities\", \"Total.Fatal.Injuries\"]].max(axis=1)\n",
    "    df.drop(\"Parsed.Fatalities\", axis=1, inplace=True)\n",
    "    return df\n",
    "\n",
    "def process_injury_data(df):\n",
    "    \"\"\"Processes injury data by cleaning and creating new columns.\"\"\"\n",
    "    df = _clean_injury_counts(df)\n",
    "    df = _create_injury_and_passenger_columns(df)\n",
    "    df = _create_final_fatalities(df)\n",
    "    return df"
   ]
  },
  {
   "cell_type": "code",
   "execution_count": 134,
   "id": "31f77bd2",
   "metadata": {},
   "outputs": [],
   "source": [
    "def _simplify_weather(weather):\n",
    "    \"\"\"\n",
    "    Simplifies weather conditions into \"Good\", \"Bad\", and \"Unknown\".\n",
    "\n",
    "    VMC (Visual Meteorological Conditions) -> \"Good\"\n",
    "    IMC (Instrument Meteorological Conditions) -> \"Bad\"\n",
    "    NaN or UNK/Unk -> \"Unknown\" (Weather condition not recorded or unknown)\n",
    "    \"\"\"\n",
    "    if isinstance(weather, str): #Check that weather is a string.\n",
    "        if weather == \"VMC\":\n",
    "            return \"Good\"\n",
    "        elif weather == \"IMC\":\n",
    "            return \"Bad\"\n",
    "        elif pd.isna(weather) or weather in [\"UNK\", \"Unk\"]:\n",
    "            return \"Unknown\"\n",
    "        else:\n",
    "            return \"Unknown\" # Handles cases we haven't seen.\n",
    "    else:\n",
    "        return \"Unknown\" # Handles cases where weather is not a string.\n",
    "\n",
    "# This function expects a single element, so it must be used within apply.\n",
    "def apply_simplified_weather_to_column(df):\n",
    "    df[\"Weather.Condition\"] = df[\"Weather.Condition\"].apply(_simplify_weather)\n",
    "    return df"
   ]
  },
  {
   "cell_type": "code",
   "execution_count": 135,
   "id": "5a2b7eab",
   "metadata": {},
   "outputs": [],
   "source": [
    "# We'll use a functional programming approach to keep ourselves organized\n",
    "\n",
    "cleaning_functions = [\n",
    "    process_injury_data,\n",
    "    normalize_engine_type,\n",
    "    create_engine_configuration,\n",
    "    apply_simplified_weather_to_column,\n",
    "    misc_cleaning,\n",
    "]\n",
    "\n",
    "def apply_cleaning_functions(df, cleaning_functions):\n",
    "    \"\"\"Applies a list of cleaning functions to the DataFrame.\"\"\"\n",
    "    for func in cleaning_functions:\n",
    "        df = func(df)\n",
    "    return df\n",
    "\n",
    "df = apply_cleaning_functions(df, cleaning_functions)\n",
    "# We should still have 88889 records after cleaning"
   ]
  },
  {
   "cell_type": "code",
   "execution_count": 136,
   "id": "134d0324",
   "metadata": {},
   "outputs": [],
   "source": [
    "# Filtering \n",
    "\n",
    "# We're only interested in data starting 1983\n",
    "# Drops ~3000 records, remain: 85289\n",
    "df = df[df[\"Event.Date\"] >= pd.Timestamp(\"1983-01-01\")]\n",
    "# Drop amateur build rows that were not involved in collisions.\n",
    "# Drops ~8000 records, remain: 77183\n",
    "df = df[((df[\"Amateur.Built\"] == \"No\") | (df[\"Aircraft Involved\"] > 1))] # bitwise or to compare series\n",
    "\n",
    "# Drop rotorcraft rows that were not involved in collisions, keeping \"Other\" records\n",
    "# Drops ~4000 records, remain: 73245\n",
    "df = df[\n",
    "    (df[\"Aircraft.Category\"] == \"Airplane\") |\n",
    "    (df[\"Aircraft.Category\"] == \"Other/Unknown\") |\n",
    "    (df[\"Aircraft Involved\"] > 1)\n",
    "]\n",
    "\n",
    "# Remove these categories since they are not close to what we're looking for\n",
    "df = df[~df[\"Engine.Type\"].isin([\"NONE\", \"Hybrid Rocket\"])]\n",
    "\n",
    "# Drop makes with fewer than 50 examples.\n",
    "make_counts = df[\"Make\"].value_counts()\n",
    "makes_to_keep = make_counts[make_counts >= 50].index\n",
    "df = df[df[\"Make\"].isin(makes_to_keep)]\n",
    "\n",
    "# Drop rows where Model is NaN, per instructions\n",
    "df = df.dropna(subset=[\"Model\"])"
   ]
  },
  {
   "cell_type": "markdown",
   "id": "36d26002",
   "metadata": {},
   "source": [
    "### Cleaning and constructing Key Measurables\n",
    "\n",
    "Injuries and robustness to destruction are a key interest point for the client. Clean and impute relevant columns and then create derived fields that best quantifies what the client wishes to track. **Use commenting or markdown to explain any cleaning assumptions as well as any derived columns you create.**"
   ]
  },
  {
   "cell_type": "markdown",
   "id": "070b08f8",
   "metadata": {},
   "source": [
    "**Construct metric for fatal/serious injuries**\n",
    "\n",
    "*Hint:* Estimate the total number of passengers on each flight. The likelihood of serious / fatal injury can be estimated as a fraction from this."
   ]
  },
  {
   "cell_type": "code",
   "execution_count": 137,
   "id": "ef28a6d4",
   "metadata": {},
   "outputs": [],
   "source": [
    "# Done in previous cells"
   ]
  },
  {
   "cell_type": "markdown",
   "id": "6c89136b",
   "metadata": {},
   "source": [
    "**Aircraft.Damage**\n",
    "- identify and execute any cleaning tasks\n",
    "- construct a derived column tracking whether an aircraft was destroyed or not."
   ]
  },
  {
   "cell_type": "code",
   "execution_count": 138,
   "id": "91b518b1",
   "metadata": {},
   "outputs": [],
   "source": [
    "# Done in previous cells"
   ]
  },
  {
   "cell_type": "markdown",
   "id": "e9d8af9b",
   "metadata": {},
   "source": [
    "### Investigate the *Make* column\n",
    "- Identify cleaning tasks here\n",
    "- List cleaning tasks clearly in markdown\n",
    "- Execute the cleaning tasks\n",
    "- For your analysis, keep Makes with a reasonable number (you can put the threshold at 50 though lower could work as well)"
   ]
  },
  {
   "cell_type": "code",
   "execution_count": 139,
   "id": "cf9005cf",
   "metadata": {},
   "outputs": [],
   "source": [
    "# Done in previous cells"
   ]
  },
  {
   "cell_type": "markdown",
   "id": "6ed9f3c2",
   "metadata": {},
   "source": [
    "### Inspect Model column\n",
    "- Get rid of any NaNs.\n",
    "- Inspect the column and counts for each model/make. Are model labels unique to each make?\n",
    "- If not, create a derived column that is a unique identifier for a given plane type."
   ]
  },
  {
   "cell_type": "code",
   "execution_count": 140,
   "id": "05f20594",
   "metadata": {},
   "outputs": [],
   "source": [
    "# Done in previous cells"
   ]
  },
  {
   "cell_type": "markdown",
   "id": "9a173ebd",
   "metadata": {},
   "source": [
    "### Cleaning other columns\n",
    "- there are other columns containing data that might be related to the outcome of an accident. We list a few here:\n",
    "- Engine.Type\n",
    "- Weather.Condition\n",
    "- Number.of.Engines\n",
    "- Purpose.of.flight\n",
    "- Broad.phase.of.flight\n",
    "\n",
    "Inspect and identify potential cleaning tasks in each of the above columns. Execute those cleaning tasks. \n",
    "\n",
    "**Note**: You do not necessarily need to impute or drop NaNs here."
   ]
  },
  {
   "cell_type": "code",
   "execution_count": 141,
   "id": "01df492e",
   "metadata": {},
   "outputs": [],
   "source": [
    "# Done in previous cells"
   ]
  },
  {
   "cell_type": "markdown",
   "id": "12ad63d9",
   "metadata": {},
   "source": [
    "### Column Removal\n",
    "- inspect the dataframe and drop any columns that have too many NaNs"
   ]
  },
  {
   "cell_type": "code",
   "execution_count": null,
   "id": "f661bb21",
   "metadata": {},
   "outputs": [],
   "source": []
  },
  {
   "cell_type": "markdown",
   "id": "750d48f1",
   "metadata": {},
   "source": [
    "### Save DataFrame to csv\n",
    "- its generally useful to save data to file/server after its in a sufficiently cleaned or intermediate state\n",
    "- the data can then be loaded directly in another notebook for further analysis\n",
    "- this helps keep your notebooks and workflow readable, clean and modularized"
   ]
  },
  {
   "cell_type": "code",
   "execution_count": 142,
   "id": "b425a512",
   "metadata": {},
   "outputs": [],
   "source": [
    "selected_columns = [\n",
    "    \"Event.Date\", \"Injury.Severity\", \"Aircraft.damage\",\n",
    "    \"Make\", \"Model\", \"Amateur.Built\",\n",
    "    \"Number.of.Engines\", \"Engine.Type\", \"Total.Fatal.Injuries\",\n",
    "    \"Total.Serious.Injuries\", \"Total.Minor.Injuries\", \"Total.Uninjured\",\n",
    "    \"Weather.Condition\", \"Broad.phase.of.flight\", \"Purpose.of.flight\",\n",
    "    \"Aircraft.Category\", \"Aircraft Involved\", \"MakeModel\", \"Engine.Configuration\", \"Final.Fatalities\"\n",
    "]\n",
    "\n",
    "df[selected_columns].to_csv(\"filtered_aircraft_data.csv\", index=False)"
   ]
  }
 ],
 "metadata": {
  "kernelspec": {
   "display_name": "win_c0c1",
   "language": "python",
   "name": "python3"
  },
  "language_info": {
   "codemirror_mode": {
    "name": "ipython",
    "version": 3
   },
   "file_extension": ".py",
   "mimetype": "text/x-python",
   "name": "python",
   "nbconvert_exporter": "python",
   "pygments_lexer": "ipython3",
   "version": "3.12.4"
  }
 },
 "nbformat": 4,
 "nbformat_minor": 5
}
